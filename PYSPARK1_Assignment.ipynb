{
  "nbformat": 4,
  "nbformat_minor": 0,
  "metadata": {
    "colab": {
      "name": "Sitaram_Deevi_PYSPARK1_Mandatory_Assignment.ipynb",
      "provenance": [],
      "collapsed_sections": []
    },
    "kernelspec": {
      "name": "python3",
      "display_name": "Python 3"
    },
    "language_info": {
      "name": "python"
    }
  },
  "cells": [
    {
      "cell_type": "markdown",
      "source": [
        "# PYSPARK1 Mandatory Assignment : "
      ],
      "metadata": {
        "id": "QqHIVm9zlw4G"
      }
    },
    {
      "cell_type": "markdown",
      "source": [
        "## Introduction :\n",
        "\n",
        "The Bellow data set is all about the details of Aadhar Card from UIDAI which has the details as Follows\n",
        "\n",
        "1) Enrolment_Agency : On which Agency the card was Enrolled.\n",
        "\n",
        "2) State : On which State the card was Enrolled.\n",
        "\n",
        "3) District : On which District the card was Enrolled.\n",
        "\n",
        "4) Sub_District : On which Sub_District the card was Enrolled.\n",
        "\n",
        "5) Pin_Code : Pin code of the particular state on which the card was enrolled.\n",
        "\n",
        "6) Gender : Gender of the person who was Enrolled.\n",
        "\n",
        "7) Age :  Age of the person who was Enrolled.\n",
        "\n",
        "8) Aadhaar_generated : It shows the status that the Enrolled person got  approval or not.\n",
        "\n",
        "9) Enrolment_Rejected : It shows the Rejections of Enrollements if Any.\n",
        "\n",
        "10) Residents_providing_email : It shows thet the Residents provided their Email Adress or Not.\n",
        "\n",
        "11) Residents_providing_mobile_number : It shows thet the Residents provided their Mobil Number or Not."
      ],
      "metadata": {
        "id": "hCwovM7FmPzv"
      }
    },
    {
      "cell_type": "code",
      "execution_count": 2,
      "metadata": {
        "id": "gG2AoR0Sjka0",
        "colab": {
          "base_uri": "https://localhost:8080/"
        },
        "outputId": "2496cef5-32bf-4b6c-f715-4727013a20f3"
      },
      "outputs": [
        {
          "output_type": "stream",
          "name": "stdout",
          "text": [
            "Looking in indexes: https://pypi.org/simple, https://us-python.pkg.dev/colab-wheels/public/simple/\n",
            "Collecting pyspark\n",
            "  Downloading pyspark-3.3.0.tar.gz (281.3 MB)\n",
            "\u001b[K     |████████████████████████████████| 281.3 MB 36 kB/s \n",
            "\u001b[?25hCollecting py4j==0.10.9.5\n",
            "  Downloading py4j-0.10.9.5-py2.py3-none-any.whl (199 kB)\n",
            "\u001b[K     |████████████████████████████████| 199 kB 47.2 MB/s \n",
            "\u001b[?25hBuilding wheels for collected packages: pyspark\n",
            "  Building wheel for pyspark (setup.py) ... \u001b[?25l\u001b[?25hdone\n",
            "  Created wheel for pyspark: filename=pyspark-3.3.0-py2.py3-none-any.whl size=281764026 sha256=2183c08e6f52c8fc6410a0f69ab6b2a60fad38afff9e53413874fbf54cb4827c\n",
            "  Stored in directory: /root/.cache/pip/wheels/7a/8e/1b/f73a52650d2e5f337708d9f6a1750d451a7349a867f928b885\n",
            "Successfully built pyspark\n",
            "Installing collected packages: py4j, pyspark\n",
            "Successfully installed py4j-0.10.9.5 pyspark-3.3.0\n"
          ]
        }
      ],
      "source": [
        "pip install pyspark # installing pyspark"
      ]
    },
    {
      "cell_type": "code",
      "source": [
        "# Initializing pyspark and importing functions\n",
        "from pyspark import SparkContext,SparkConf\n",
        "from pyspark.sql import SparkSession , SQLContext\n",
        "import pyspark.sql.functions as f"
      ],
      "metadata": {
        "id": "BL1MOWTX1xj8"
      },
      "execution_count": 3,
      "outputs": []
    },
    {
      "cell_type": "code",
      "source": [
        "# Spark configuration \n",
        "conf = SparkConf().setAppName(\"Sample_App\")\n",
        "sc = SparkContext(conf = conf)\n",
        "spark = SparkSession.builder.appName('Test').getOrCreate()\n",
        "SQLContext = SQLContext(sc)"
      ],
      "metadata": {
        "id": "kUnQzwhjsjxw",
        "colab": {
          "base_uri": "https://localhost:8080/"
        },
        "outputId": "dfef6189-3684-4636-b78d-6508b66558b5"
      },
      "execution_count": 4,
      "outputs": [
        {
          "output_type": "stream",
          "name": "stderr",
          "text": [
            "/usr/local/lib/python3.7/dist-packages/pyspark/sql/context.py:114: FutureWarning: Deprecated in 3.0.0. Use SparkSession.builder.getOrCreate() instead.\n",
            "  FutureWarning,\n"
          ]
        }
      ]
    },
    {
      "cell_type": "code",
      "source": [
        "# Reading  the data set as a dataframe\n",
        "df = spark.read.format(\"csv\").option(\"header\", \"true\").option(\"inferSchema\",\"true\").load(\"/content/UIDAI-ENR-DETAIL-20170308.csv\")\n",
        "# Displaying the First five records.\n",
        "df.show(5) "
      ],
      "metadata": {
        "colab": {
          "base_uri": "https://localhost:8080/"
        },
        "id": "rAyKsDIw3PFz",
        "outputId": "d3248269-f57c-4926-d1a8-8dffadb6db2f"
      },
      "execution_count": 5,
      "outputs": [
        {
          "output_type": "stream",
          "name": "stdout",
          "text": [
            "+--------------+--------------------+-------------+---------+------------+--------+------+---+-----------------+------------------+-------------------------+---------------------------------+\n",
            "|     Registrar|    Enrolment Agency|        State| District|Sub District|Pin Code|Gender|Age|Aadhaar generated|Enrolment Rejected|Residents providing email|Residents providing mobile number|\n",
            "+--------------+--------------------+-------------+---------+------------+--------+------+---+-----------------+------------------+-------------------------+---------------------------------+\n",
            "|Allahabad Bank|A-Onerealtors Pvt...|Uttar Pradesh|Allahabad|        Meja|  212303|     F|  7|                1|                 0|                        0|                                1|\n",
            "|Allahabad Bank|Asha Security Gua...|Uttar Pradesh|Sonbhadra| Robertsganj|  231213|     M|  8|                1|                 0|                        0|                                0|\n",
            "|Allahabad Bank|   SGS INDIA PVT LTD|Uttar Pradesh|Sultanpur|   Sultanpur|  227812|     F| 13|                1|                 0|                        0|                                1|\n",
            "|Allahabad Bank|Sri Ramraja Sarka...|Uttar Pradesh|   Shamli|      Shamli|  247775|     M|  6|                1|                 0|                        0|                                1|\n",
            "|Allahabad Bank|  Transmoovers India|Uttar Pradesh|Gorakhpur|    Sahjanwa|  273001|     M|  8|                1|                 0|                        0|                                1|\n",
            "+--------------+--------------------+-------------+---------+------------+--------+------+---+-----------------+------------------+-------------------------+---------------------------------+\n",
            "only showing top 5 rows\n",
            "\n"
          ]
        }
      ]
    },
    {
      "cell_type": "markdown",
      "source": [
        "## Data Analysis"
      ],
      "metadata": {
        "id": "qzisffZv7gWS"
      }
    },
    {
      "cell_type": "markdown",
      "source": [
        "### 1) Create a dataframe with Total Aadhaar's generated for each state"
      ],
      "metadata": {
        "id": "xgc7pkrY7yi2"
      }
    },
    {
      "cell_type": "code",
      "source": [
        "adhar_generated_state_wise = df.groupBy(\"State\").sum(\"Aadhaar generated\") # Query to find total number of Aadhars generated for each state.\n",
        "adhar_generated_state_wise.show() # calling the function "
      ],
      "metadata": {
        "colab": {
          "base_uri": "https://localhost:8080/"
        },
        "id": "UaBPqWfP7X3c",
        "outputId": "14f238e2-4882-41f9-83fd-b608f830bf09"
      },
      "execution_count": 9,
      "outputs": [
        {
          "output_type": "stream",
          "name": "stdout",
          "text": [
            "+--------------------+----------------------+\n",
            "|               State|sum(Aadhaar generated)|\n",
            "+--------------------+----------------------+\n",
            "|            Nagaland|                   545|\n",
            "|           Karnataka|                 19764|\n",
            "|              Odisha|                 18182|\n",
            "|              Kerala|                 15143|\n",
            "|          Tamil Nadu|                 32485|\n",
            "|        Chhattisgarh|                  6604|\n",
            "|      Andhra Pradesh|                  5798|\n",
            "|      Madhya Pradesh|                 53276|\n",
            "|              Punjab|                  6506|\n",
            "|             Manipur|                  1323|\n",
            "|                 Goa|                  1167|\n",
            "|             Mizoram|                  6279|\n",
            "|Dadra and Nagar H...|                   140|\n",
            "|    Himachal Pradesh|                  1547|\n",
            "|          Puducherry|                    83|\n",
            "|             Haryana|                  6804|\n",
            "|   Jammu and Kashmir|                  1234|\n",
            "|           Jharkhand|                  9868|\n",
            "|   Arunachal Pradesh|                   913|\n",
            "|             Gujarat|                 34844|\n",
            "+--------------------+----------------------+\n",
            "only showing top 20 rows\n",
            "\n"
          ]
        }
      ]
    },
    {
      "cell_type": "markdown",
      "source": [
        "### Explanation :\n",
        "\n",
        "The information above is all about the Total Number of Aadhar's Generated for each state. By this we can find which state has generated highest Aadhar cards where as which state has generated lowest Aadhar cards and we can find average etc... "
      ],
      "metadata": {
        "id": "ocJrmOwj9dkX"
      }
    },
    {
      "cell_type": "markdown",
      "source": [
        "### 2) Create a dataframe with the Total Aadhaar's generated by each enrollment agency."
      ],
      "metadata": {
        "id": "MT2a_zKJ_nKb"
      }
    },
    {
      "cell_type": "code",
      "source": [
        "# Query to find total number of Aadhars generated by each Enrollment agency.\n",
        "adhar_generated_agency_wise = df.groupBy(\"Enrolment Agency\").sum(\"Aadhaar generated\") \n",
        "adhar_generated_agency_wise.show() # calling the function "
      ],
      "metadata": {
        "colab": {
          "base_uri": "https://localhost:8080/"
        },
        "id": "DLIs6Wyl84ho",
        "outputId": "485ca67e-8799-432e-8dc2-fab8ba2fd053"
      },
      "execution_count": 8,
      "outputs": [
        {
          "output_type": "stream",
          "name": "stdout",
          "text": [
            "+--------------------+----------------------+\n",
            "|    Enrolment Agency|sum(Aadhaar generated)|\n",
            "+--------------------+----------------------+\n",
            "|Raj Construction Co.|                   532|\n",
            "|      CO JOMLO MOBUK|                     8|\n",
            "|NPS Technologies ...|                  9692|\n",
            "|    APOnline Limited|                   305|\n",
            "|  Transmoovers India|                     5|\n",
            "|Zephyr System Pvt...|                  6946|\n",
            "|          ADC BOLENG|                     2|\n",
            "|Emdee Digitronics...|                  2078|\n",
            "|Netlink software ...|                  4832|\n",
            "|     DSO STAT NAMSAI|                    50|\n",
            "|Estex Telecom Pvt...|                  1894|\n",
            "|Squaria Global In...|                  1368|\n",
            "|EAC OFFICE KAYING...|                    21|\n",
            "|IAP COMPANY Pvt. Ltd|                 10644|\n",
            "|Prakash Computer ...|                  2817|\n",
            "|      CDPO Tezu ICDS|                    66|\n",
            "|       APEX Services|                   109|\n",
            "|Synapses Solution...|                  2843|\n",
            "|Yashi Informatics...|                     5|\n",
            "|HyperSoft Technol...|                    33|\n",
            "+--------------------+----------------------+\n",
            "only showing top 20 rows\n",
            "\n"
          ]
        }
      ]
    },
    {
      "cell_type": "markdown",
      "source": [
        "### Explalantin :\n",
        "\n",
        "The information above is all about the Total Number of Aadhar's Generated By each Enrolment Agency. By this we can find which Enrolment Agency has generated highest Aadhar cards where as which Enrolement Agency has generated lowest Aadhar cards and we can find average etc... "
      ],
      "metadata": {
        "id": "kY-5-SKzAU2h"
      }
    },
    {
      "cell_type": "markdown",
      "source": [
        "### 3) Create dataframe with the top 10 districts with maximum Aadhaar's generated for both Male and females?"
      ],
      "metadata": {
        "id": "L2k66BHFqFZY"
      }
    },
    {
      "cell_type": "code",
      "source": [
        "data_of_males = df.filter(df.Gender ==\"M\") # Creating a data frame for all male candidates \n",
        "data_of_males.show(5) # Checking whether the records were filtered accordingly or not"
      ],
      "metadata": {
        "colab": {
          "base_uri": "https://localhost:8080/"
        },
        "id": "9Ss9klTKqOJj",
        "outputId": "b2cf9929-fb6c-405e-b64a-4d9d440b8f95"
      },
      "execution_count": 10,
      "outputs": [
        {
          "output_type": "stream",
          "name": "stdout",
          "text": [
            "+--------------+--------------------+-------------+---------+------------+--------+------+---+-----------------+------------------+-------------------------+---------------------------------+\n",
            "|     Registrar|    Enrolment Agency|        State| District|Sub District|Pin Code|Gender|Age|Aadhaar generated|Enrolment Rejected|Residents providing email|Residents providing mobile number|\n",
            "+--------------+--------------------+-------------+---------+------------+--------+------+---+-----------------+------------------+-------------------------+---------------------------------+\n",
            "|Allahabad Bank|Asha Security Gua...|Uttar Pradesh|Sonbhadra| Robertsganj|  231213|     M|  8|                1|                 0|                        0|                                0|\n",
            "|Allahabad Bank|Sri Ramraja Sarka...|Uttar Pradesh|   Shamli|      Shamli|  247775|     M|  6|                1|                 0|                        0|                                1|\n",
            "|Allahabad Bank|  Transmoovers India|Uttar Pradesh|Gorakhpur|    Sahjanwa|  273001|     M|  8|                1|                 0|                        0|                                1|\n",
            "|Allahabad Bank|  Transmoovers India|Uttar Pradesh| Varanasi|      Pindra|  221101|     M| 14|                1|                 0|                        0|                                1|\n",
            "|Allahabad Bank|  Transmoovers India|Uttar Pradesh| Varanasi|    Varanasi|  221001|     M|  9|                1|                 0|                        0|                                1|\n",
            "+--------------+--------------------+-------------+---------+------------+--------+------+---+-----------------+------------------+-------------------------+---------------------------------+\n",
            "only showing top 5 rows\n",
            "\n"
          ]
        }
      ]
    },
    {
      "cell_type": "code",
      "source": [
        "male_data_by_districts = data_of_males.groupBy(\"District\").sum(\"Aadhaar generated\") # calculating number of Aadhar's generated in each district\n",
        "male_result = male_data_by_districts.orderBy(f.desc(\"sum(Aadhaar generated)\")) # putting the above result in decending order\n",
        "male_result.show(10) # calling the top 10 records"
      ],
      "metadata": {
        "colab": {
          "base_uri": "https://localhost:8080/"
        },
        "id": "CrorH1158wj2",
        "outputId": "f59586e1-8e55-4578-eaef-a66ba14a40ea"
      },
      "execution_count": 11,
      "outputs": [
        {
          "output_type": "stream",
          "name": "stdout",
          "text": [
            "+-----------------+----------------------+\n",
            "|         District|sum(Aadhaar generated)|\n",
            "+-----------------+----------------------+\n",
            "|        Bhagalpur|                 11007|\n",
            "|South 24 Parganas|                  7825|\n",
            "|          Katihar|                  6968|\n",
            "|      Murshidabad|                  6808|\n",
            "|       Samastipur|                  6195|\n",
            "|            Patna|                  6191|\n",
            "|       Barddhaman|                  6077|\n",
            "|             Gaya|                  5959|\n",
            "|           Munger|                  5781|\n",
            "|            Nadia|                  5509|\n",
            "+-----------------+----------------------+\n",
            "only showing top 10 rows\n",
            "\n"
          ]
        }
      ]
    },
    {
      "cell_type": "code",
      "source": [
        "data_of_females = df.filter(df.Gender ==\"F\")  # Creating a data frame for all female candidates \n",
        "data_of_females.show(5) # Checking whether the records were filtered accordingly or not"
      ],
      "metadata": {
        "colab": {
          "base_uri": "https://localhost:8080/"
        },
        "id": "BEqoEiJ5v0T-",
        "outputId": "fb020061-16d3-4a1e-a590-33bf03182a24"
      },
      "execution_count": 13,
      "outputs": [
        {
          "output_type": "stream",
          "name": "stdout",
          "text": [
            "+--------------------+--------------------+-------------+---------+------------+--------+------+---+-----------------+------------------+-------------------------+---------------------------------+\n",
            "|           Registrar|    Enrolment Agency|        State| District|Sub District|Pin Code|Gender|Age|Aadhaar generated|Enrolment Rejected|Residents providing email|Residents providing mobile number|\n",
            "+--------------------+--------------------+-------------+---------+------------+--------+------+---+-----------------+------------------+-------------------------+---------------------------------+\n",
            "|      Allahabad Bank|A-Onerealtors Pvt...|Uttar Pradesh|Allahabad|        Meja|  212303|     F|  7|                1|                 0|                        0|                                1|\n",
            "|      Allahabad Bank|   SGS INDIA PVT LTD|Uttar Pradesh|Sultanpur|   Sultanpur|  227812|     F| 13|                1|                 0|                        0|                                1|\n",
            "|Atalji Janasnehi ...|Atalji Janasnehi ...|    Karnataka| Bagalkot|      Badami|  587155|     F|  2|                1|                 0|                        0|                                1|\n",
            "|Atalji Janasnehi ...|Atalji Janasnehi ...|    Karnataka| Bagalkot|      Badami|  587201|     F| 32|                1|                 0|                        0|                                1|\n",
            "|Atalji Janasnehi ...|Atalji Janasnehi ...|    Karnataka| Bagalkot|      Badami|  587206|     F| 40|                1|                 0|                        0|                                0|\n",
            "+--------------------+--------------------+-------------+---------+------------+--------+------+---+-----------------+------------------+-------------------------+---------------------------------+\n",
            "only showing top 5 rows\n",
            "\n"
          ]
        }
      ]
    },
    {
      "cell_type": "code",
      "source": [
        "female_data_by_districts = data_of_females.groupBy(\"District\").sum(\"Aadhaar generated\") # calculating number of Aadhar's generated in each district\n",
        "female_result = female_data_by_districts.orderBy(f.desc(\"sum(Aadhaar generated)\")) # putting the result set in decending order\n",
        "female_result.show(10) # calling the top 10 records"
      ],
      "metadata": {
        "colab": {
          "base_uri": "https://localhost:8080/"
        },
        "id": "K_P9ax_e-g9X",
        "outputId": "6bfaa665-b0dc-43bc-e26b-e4cfd5872c2c"
      },
      "execution_count": 14,
      "outputs": [
        {
          "output_type": "stream",
          "name": "stdout",
          "text": [
            "+-----------------+----------------------+\n",
            "|         District|sum(Aadhaar generated)|\n",
            "+-----------------+----------------------+\n",
            "|       Barddhaman|                  9744|\n",
            "|South 24 Parganas|                  8382|\n",
            "|North 24 Parganas|                  6108|\n",
            "|             Gaya|                  4796|\n",
            "|       Jalpaiguri|                  4428|\n",
            "|Paschim Medinipur|                  3965|\n",
            "|           Howrah|                  3516|\n",
            "|        Bhagalpur|                  3472|\n",
            "|           Budaun|                  2905|\n",
            "|            Banka|                  2882|\n",
            "+-----------------+----------------------+\n",
            "only showing top 10 rows\n",
            "\n"
          ]
        }
      ]
    },
    {
      "cell_type": "markdown",
      "source": [
        "### Explanation :\n",
        "\n",
        "By Analysing the above results we can easily say that for male candidates \" Bhagalpur \" District has generated the maximum number of Aadhar cards, where as for females \" Barddhaman \" District generated the maximum number of aadhar cards.\n",
        "By using we can find all the values what ever we want like which district generated lowest,average cards generated by all districts like that."
      ],
      "metadata": {
        "id": "HLpSN-zb-bHs"
      }
    },
    {
      "cell_type": "markdown",
      "source": [
        "### 4) Create a dataframe with Total Aadhaar generated for the top 10 least states."
      ],
      "metadata": {
        "id": "ScS7-4ArwIl2"
      }
    },
    {
      "cell_type": "code",
      "source": [
        "aadhar_by_state = df.groupBy(\"State\").sum(\"Aadhaar generated\")  # calculating number of aadhar's generated by each state\n",
        "least_result = aadhar_by_state.orderBy(f.asc(\"sum(Aadhaar generated)\")) # putting the result set in acending order\n",
        "least_result.show(10) # calling the top 10 least records"
      ],
      "metadata": {
        "colab": {
          "base_uri": "https://localhost:8080/"
        },
        "id": "FJSZnlVwxTds",
        "outputId": "6bf8e035-be39-4730-b4f2-5f8f5e880e14"
      },
      "execution_count": 16,
      "outputs": [
        {
          "output_type": "stream",
          "name": "stdout",
          "text": [
            "+--------------------+----------------------+\n",
            "|               State|sum(Aadhaar generated)|\n",
            "+--------------------+----------------------+\n",
            "|         Lakshadweep|                     4|\n",
            "|Andaman and Nicob...|                     5|\n",
            "|              Others|                    12|\n",
            "|              Sikkim|                    50|\n",
            "|          Puducherry|                    83|\n",
            "|       Daman and Diu|                   105|\n",
            "|Dadra and Nagar H...|                   140|\n",
            "|          Chandigarh|                   259|\n",
            "|           Meghalaya|                   277|\n",
            "|            Nagaland|                   545|\n",
            "+--------------------+----------------------+\n",
            "only showing top 10 rows\n",
            "\n"
          ]
        }
      ]
    },
    {
      "cell_type": "markdown",
      "source": [
        "### Explanation :\n",
        " \n",
        "   By above result set we can easily say that the state(UT) Lakshadweep has generated the lowest number of Aadhar cards by generating just 4 cards."
      ],
      "metadata": {
        "id": "adK2scre_a6f"
      }
    },
    {
      "cell_type": "markdown",
      "source": [
        "### 5) For which age, most Aadhar cards have declined?"
      ],
      "metadata": {
        "id": "7XAHKpz5wPeq"
      }
    },
    {
      "cell_type": "code",
      "source": [
        "dec_by_age = df.groupBy(\"Age\").sum(\"Enrolment Rejected\") # calculating the no of cards Rejected for each age group people\n",
        "dec_result = dec_by_age.orderBy(f.desc(\"sum(Enrolment Rejected)\"))  # putting the result set in decending order\n",
        "dec_result.show(1) # calling top age group which got most card rejections"
      ],
      "metadata": {
        "colab": {
          "base_uri": "https://localhost:8080/"
        },
        "id": "-RgjkobO5TQY",
        "outputId": "5e8037ef-5e7f-497a-93cd-104a902e7080"
      },
      "execution_count": 18,
      "outputs": [
        {
          "output_type": "stream",
          "name": "stdout",
          "text": [
            "+---+-----------------------+\n",
            "|Age|sum(Enrolment Rejected)|\n",
            "+---+-----------------------+\n",
            "|  4|                   5673|\n",
            "+---+-----------------------+\n",
            "only showing top 1 row\n",
            "\n"
          ]
        }
      ]
    },
    {
      "cell_type": "markdown",
      "source": [
        "### Explanation :\n",
        "\n",
        " The above result clearly showing that at the age of 4 most number of aadhar card enrolments were rejected."
      ],
      "metadata": {
        "id": "lfojp2v2_4mq"
      }
    }
  ]
}